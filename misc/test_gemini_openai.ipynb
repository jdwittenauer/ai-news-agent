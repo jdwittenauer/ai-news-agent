{
 "cells": [
  {
   "cell_type": "code",
   "execution_count": null,
   "id": "b0544791-b33f-47d7-9626-2682ffe6254d",
   "metadata": {},
   "outputs": [],
   "source": [
    "import base64\n",
    "import os\n",
    "import requests\n",
    "from dotenv import load_dotenv\n",
    "from io import BytesIO\n",
    "from openai import OpenAI\n",
    "from pydantic import BaseModel\n",
    "\n",
    "load_dotenv()\n",
    "client = OpenAI(\n",
    "    api_key=os.getenv(\"GEMINI_API_KEY\"),\n",
    "    base_url=\"https://generativelanguage.googleapis.com/v1beta/openai/\"\n",
    ")"
   ]
  },
  {
   "cell_type": "markdown",
   "id": "7aca2b41-5d6d-4119-821a-0f8e26fea2ee",
   "metadata": {},
   "source": [
    "### General"
   ]
  },
  {
   "cell_type": "code",
   "execution_count": null,
   "id": "5b6ca7ae-f798-4ecf-a6eb-c1cf62f684a6",
   "metadata": {},
   "outputs": [],
   "source": [
    "response = client.chat.completions.create(\n",
    "    model=\"gemma-3-27b-it\",\n",
    "    messages=[\n",
    "        {\n",
    "            # {\"role\": \"system\", \"content\": \"You are a helpful assistant.\"},\n",
    "            \"role\": \"user\",\n",
    "            \"content\": \"Explain how AI works in a few words\"\n",
    "        }\n",
    "    ]\n",
    ")\n",
    "print(response.choices[0].message.content)"
   ]
  },
  {
   "cell_type": "markdown",
   "id": "de9d68c7-2a61-4847-a0e0-841f539cc1e1",
   "metadata": {},
   "source": [
    "### Thinking"
   ]
  },
  {
   "cell_type": "code",
   "execution_count": null,
   "id": "beeae2de-bbd1-4017-a345-1ecc377cbf55",
   "metadata": {},
   "outputs": [],
   "source": [
    "response = client.chat.completions.create(\n",
    "    model=\"gemini-2.5-flash\",\n",
    "    reasoning_effort=\"none\",\n",
    "    messages=[\n",
    "        {\"role\": \"system\", \"content\": \"You are a helpful assistant.\"},\n",
    "        {\n",
    "            \"role\": \"user\",\n",
    "            \"content\": \"Explain how AI works in a few words\"\n",
    "        }\n",
    "    ]\n",
    ")\n",
    "print(response.choices[0].message.content)"
   ]
  },
  {
   "cell_type": "markdown",
   "id": "7a0fed77-f0d4-4d2e-b976-9d6aa6f7fdd2",
   "metadata": {},
   "source": [
    "### Streaming"
   ]
  },
  {
   "cell_type": "code",
   "execution_count": null,
   "id": "07c8dff0-baf2-4de0-8664-cd85380ff917",
   "metadata": {},
   "outputs": [],
   "source": [
    "response = client.chat.completions.create(\n",
    "  model=\"gemma-3-27b-it\",\n",
    "  messages=[\n",
    "    # {\"role\": \"system\", \"content\": \"You are a helpful assistant.\"},\n",
    "    {\"role\": \"user\", \"content\": \"Hello!\"}\n",
    "  ],\n",
    "  stream=True\n",
    ")\n",
    "\n",
    "for chunk in response:\n",
    "    print(chunk.choices[0].delta)"
   ]
  },
  {
   "cell_type": "markdown",
   "id": "4a285fb8-9e22-4dc3-8397-9e458327265f",
   "metadata": {},
   "source": [
    "### Function Calling"
   ]
  },
  {
   "cell_type": "code",
   "execution_count": null,
   "id": "60586d36-2b08-4559-b9b9-f36094aeea67",
   "metadata": {},
   "outputs": [],
   "source": [
    "tools = [\n",
    "    {\n",
    "        \"type\": \"function\",\n",
    "        \"function\": {\n",
    "            \"name\": \"get_weather\",\n",
    "            \"description\": \"Get the weather in a given location\",\n",
    "            \"parameters\": {\n",
    "                \"type\": \"object\",\n",
    "                \"properties\": {\n",
    "                    \"location\": {\n",
    "                        \"type\": \"string\",\n",
    "                        \"description\": \"The city and state, e.g. Chicago, IL\",\n",
    "                    },\n",
    "                    \"unit\": {\"type\": \"string\", \"enum\": [\"celsius\", \"fahrenheit\"]},\n",
    "                },\n",
    "            \"required\": [\"location\"],\n",
    "            },\n",
    "        }\n",
    "    }\n",
    "]\n",
    "\n",
    "response = client.chat.completions.create(\n",
    "  model=\"gemini-2.5-flash\",\n",
    "  messages=[{\"role\": \"user\", \"content\": \"What's the weather like in Chicago, IL today?\"}],\n",
    "  tools=tools,\n",
    "  tool_choice=\"auto\"\n",
    ")\n",
    "print(response)"
   ]
  },
  {
   "cell_type": "markdown",
   "id": "8b301b1a-f1f5-45bc-8eed-fea2320f184f",
   "metadata": {},
   "source": [
    "### Multimodal"
   ]
  },
  {
   "cell_type": "code",
   "execution_count": null,
   "id": "3472b8e5-c7cd-45f8-9f28-91dfa2113887",
   "metadata": {},
   "outputs": [],
   "source": [
    "image_path = \"https://huggingface.co/datasets/huggingface/documentation-images/resolve/main/bee.jpg\"\n",
    "response = requests.get(image_path)\n",
    "image_bytes = BytesIO(response.content)\n",
    "base64_image = base64.b64encode(image_bytes.getvalue()).decode()\n",
    "\n",
    "response = client.chat.completions.create(\n",
    "  model=\"gemma-3-27b-it\",\n",
    "  messages=[\n",
    "    {\n",
    "      \"role\": \"user\",\n",
    "      \"content\": [\n",
    "        {\n",
    "          \"type\": \"text\",\n",
    "          \"text\": \"What is in this image?\",\n",
    "        },\n",
    "        {\n",
    "          \"type\": \"image_url\",\n",
    "          \"image_url\": {\n",
    "            \"url\":  f\"data:image/jpeg;base64,{base64_image}\"\n",
    "          },\n",
    "        },\n",
    "      ],\n",
    "    }\n",
    "  ],\n",
    ")\n",
    "print(response.choices[0].message.content)"
   ]
  },
  {
   "cell_type": "markdown",
   "id": "2f5296c7-0ccc-4d30-8451-bc6348d62f04",
   "metadata": {},
   "source": [
    "### Structured Output"
   ]
  },
  {
   "cell_type": "code",
   "execution_count": null,
   "id": "8900fec7-44b0-4347-bd07-c97d810dcd00",
   "metadata": {},
   "outputs": [],
   "source": [
    "class CalendarEvent(BaseModel):\n",
    "    name: str\n",
    "    date: str\n",
    "    participants: list[str]\n",
    "\n",
    "completion = client.beta.chat.completions.parse(\n",
    "    model=\"gemini-2.5-flash\",\n",
    "    messages=[\n",
    "        {\"role\": \"system\", \"content\": \"Extract the event information.\"},\n",
    "        {\"role\": \"user\", \"content\": \"John and Susan are going to an AI conference on Friday.\"},\n",
    "    ],\n",
    "    response_format=CalendarEvent\n",
    ")\n",
    "\n",
    "print(completion.choices[0].message.parsed)"
   ]
  },
  {
   "cell_type": "markdown",
   "id": "d12f03bb-75e1-4034-9a05-ceaa1daffff6",
   "metadata": {},
   "source": [
    "### Embeddings"
   ]
  },
  {
   "cell_type": "code",
   "execution_count": null,
   "id": "1006e259-cce5-4ba8-8f30-facfa6377cc9",
   "metadata": {},
   "outputs": [],
   "source": [
    "response = client.embeddings.create(\n",
    "    model=\"text-embedding-004\",\n",
    "    input=\"Your text string goes here\"\n",
    ")\n",
    "print(response.data[0].embedding)"
   ]
  },
  {
   "cell_type": "code",
   "execution_count": null,
   "id": "97202227-e76e-4f80-ad98-0efd1d34209a",
   "metadata": {},
   "outputs": [],
   "source": []
  }
 ],
 "metadata": {
  "kernelspec": {
   "display_name": "Python 3.11 - AI",
   "language": "python",
   "name": "python_ai_env"
  },
  "language_info": {
   "codemirror_mode": {
    "name": "ipython",
    "version": 3
   },
   "file_extension": ".py",
   "mimetype": "text/x-python",
   "name": "python",
   "nbconvert_exporter": "python",
   "pygments_lexer": "ipython3",
   "version": "3.11.13"
  }
 },
 "nbformat": 4,
 "nbformat_minor": 5
}
