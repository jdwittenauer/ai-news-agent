{
 "cells": [
  {
   "cell_type": "code",
   "execution_count": null,
   "id": "8ee2653f-ee0f-4370-b0a9-7c9a49261a84",
   "metadata": {},
   "outputs": [],
   "source": [
    "# Tracing (Langfuse)\n",
    "# git clone https://github.com/langfuse/langfuse.git\n",
    "# cd langfuse\n",
    "# docker compose up\n",
    "# test@test.com/test1234!\n",
    "\n",
    "import os\n",
    "from langfuse import get_client\n",
    " \n",
    "os.environ[\"LANGFUSE_PUBLIC_KEY\"] = \"pk-lf-0ef7a760-854c-4ca5-aba8-441372b21eeb\" \n",
    "os.environ[\"LANGFUSE_SECRET_KEY\"] = \"sk-lf-380091d9-b6ab-4177-b9d5-854331cce9d1\" \n",
    "os.environ[\"LANGFUSE_HOST\"] = \"http://localhost:3000\"\n",
    " \n",
    "langfuse = get_client()\n",
    "\n",
    "if langfuse.auth_check():\n",
    "    from pydantic_ai import Agent\n",
    "    Agent.instrument_all()\n",
    "    print(\"Tracing is enabled.\")\n",
    "else:\n",
    "    print(\"Authentication failed. Please check your credentials and host.\")"
   ]
  },
  {
   "cell_type": "code",
   "execution_count": null,
   "id": "715a8027-a063-4e40-ab5a-61e36970a17b",
   "metadata": {},
   "outputs": [],
   "source": [
    "# Tracing (MLFlow)\n",
    "# mlflow server --host 0.0.0.0 --port 5000\n",
    "\n",
    "import mlflow\n",
    "\n",
    "mlflow.pydantic_ai.autolog()\n",
    "mlflow.set_tracking_uri(\"http://localhost:5000\")\n",
    "mlflow.set_experiment(\"Pydantic AI\")\n",
    "mlflow.tracing.disable_notebook_display()"
   ]
  },
  {
   "cell_type": "code",
   "execution_count": null,
   "id": "29e61da7-7630-4c22-ad9b-fa935aadc2cc",
   "metadata": {},
   "outputs": [],
   "source": [
    "import os\n",
    "import random\n",
    "from dataclasses import dataclass\n",
    "from dotenv import load_dotenv\n",
    "from pydantic import BaseModel\n",
    "from pydantic_ai import Agent, RunContext\n",
    "from pydantic_ai.models.google import GoogleModel, GoogleProvider\n",
    "from pydantic_ai.settings import ModelSettings\n",
    "from pydantic_ai.usage import UsageLimits\n",
    "\n",
    "FREE_MODELS = [\n",
    "    \"gemini-2.5-pro\",\n",
    "    \"gemini-2.5-flash\",\n",
    "    \"gemini-2.5-flash-lite-preview-06-17\",\n",
    "    \"gemini-2.0-flash\",\n",
    "    \"gemini-2.0-flash-lite\",\n",
    "    \"gemma-3-27b-it\",\n",
    "    \"gemma-3n-e4b-it\",\n",
    "    \"gemini-embedding-001\"\n",
    "]\n",
    "\n",
    "load_dotenv()\n",
    "gemini_pro = GoogleModel(\n",
    "    \"gemini-2.5-pro\",\n",
    "    provider=GoogleProvider(api_key=os.getenv(\"GEMINI_API_KEY\")),\n",
    "    settings=ModelSettings(temperature=0.8)\n",
    ")\n",
    "gemini_flash = GoogleModel(\n",
    "    \"gemini-2.5-flash\",\n",
    "    provider=GoogleProvider(api_key=os.getenv(\"GEMINI_API_KEY\")),\n",
    "    settings=ModelSettings(temperature=0.8)\n",
    ")\n",
    "gemini_flash_lite = GoogleModel(\n",
    "    \"gemini-2.5-flash-lite-preview-06-17\",\n",
    "    provider=GoogleProvider(api_key=os.getenv(\"GEMINI_API_KEY\")),\n",
    "    settings=ModelSettings(temperature=0.8)\n",
    ")\n",
    "gemma = GoogleModel(\n",
    "    \"gemma-3-27b-it\",\n",
    "    provider=GoogleProvider(api_key=os.getenv(\"GEMINI_API_KEY\")),\n",
    "    settings=ModelSettings(temperature=0.8)\n",
    ")"
   ]
  },
  {
   "cell_type": "markdown",
   "id": "ab5366ba-989a-4eee-a964-9d0df68e7dc4",
   "metadata": {},
   "source": [
    "### Basic Functionality"
   ]
  },
  {
   "cell_type": "code",
   "execution_count": null,
   "id": "11f782b1-c8ba-47eb-bdde-a2b9aba0cbae",
   "metadata": {},
   "outputs": [],
   "source": [
    "agent = Agent(gemini_flash_lite)\n",
    "result = await agent.run(\"What is the capital of Italy?\")\n",
    "print(result.output)"
   ]
  },
  {
   "cell_type": "code",
   "execution_count": null,
   "id": "3eaa7642-735b-4aab-8a23-88ed68a10dc2",
   "metadata": {},
   "outputs": [],
   "source": [
    "INSTRUCTIONS = \"\"\"\\\n",
    "Answer the user's question using one of the tools provided.\"\"\"\n",
    "\n",
    "async def add_numbers(x: int, y: int) -> str:\n",
    "    \"\"\"\n",
    "    Add two numbers together.\n",
    "\n",
    "    Args:\n",
    "        x: First number\n",
    "        y: Second number\n",
    "    \"\"\"\n",
    "    return str(x + y)\n",
    "\n",
    "async def get_weather(city: str, state: str) -> str:\n",
    "    \"\"\"\n",
    "    Get weather forecast for a location.\n",
    "\n",
    "    Args:\n",
    "        city: Name of the city\n",
    "        state: State abbreviation (e.g., 'CA' for California)\n",
    "    \"\"\"\n",
    "    return f\"The weather in {city}, {state} is 75 degrees and sunny.\"\n",
    "\n",
    "agent = Agent(\n",
    "    gemini_flash_lite,\n",
    "    instructions=INSTRUCTIONS,\n",
    "    tools=[add_numbers, get_weather]\n",
    ")"
   ]
  },
  {
   "cell_type": "code",
   "execution_count": null,
   "id": "4e4f6f7b-a2c0-499f-8e8d-bb0c7b4c6178",
   "metadata": {},
   "outputs": [],
   "source": [
    "result = await agent.run(\n",
    "    \"What's the weather like in Columbus, Ohio?\",\n",
    "    usage_limits=UsageLimits(request_limit=3)\n",
    ")\n",
    "print(result.output)"
   ]
  },
  {
   "cell_type": "code",
   "execution_count": null,
   "id": "bdf26688-c5a8-4288-9e50-5d468956d8d3",
   "metadata": {},
   "outputs": [],
   "source": [
    "result2 = await agent.run(\n",
    "    \"What about Dallas, Texas?\",\n",
    "    message_history=result.new_messages(),\n",
    "    usage_limits=UsageLimits(request_limit=3)\n",
    ")\n",
    "print(result2.output)"
   ]
  },
  {
   "cell_type": "markdown",
   "id": "faa44db6-e7b6-4984-a60b-a0a32915d545",
   "metadata": {},
   "source": [
    "### Streaming"
   ]
  },
  {
   "cell_type": "code",
   "execution_count": null,
   "id": "d66a416b-1c67-4ff9-9499-450aff6cc897",
   "metadata": {},
   "outputs": [],
   "source": [
    "streamed_result = agent.run_stream(\n",
    "    \"What's the weather like in Columbus, Ohio?\"\n",
    ")\n",
    "async with streamed_result as result:\n",
    "    async for message in result.stream_text():\n",
    "        print(message)"
   ]
  },
  {
   "cell_type": "markdown",
   "id": "a52eebe6-b96c-40f6-8714-8caa5197be23",
   "metadata": {},
   "source": [
    "### Dependencies"
   ]
  },
  {
   "cell_type": "code",
   "execution_count": null,
   "id": "693bb267-d8f1-43ec-bca2-0d811a048b53",
   "metadata": {},
   "outputs": [],
   "source": [
    "@dataclass\n",
    "class User:\n",
    "    name: str\n",
    "    occupation: str\n",
    "\n",
    "INSTRUCTIONS = \"\"\"\\\n",
    "You're a dice game, you should roll the die and see if the number\n",
    "you get back matches the user's guess. If so, tell them they're a winner.\n",
    "Use the player's name in the response.\"\"\"\n",
    "\n",
    "def roll_dice() -> str:\n",
    "    \"\"\"Roll a six-sided die and return the result.\"\"\"\n",
    "    return str(random.randint(1, 6))\n",
    "\n",
    "def get_player_name(ctx: RunContext[User]) -> str:\n",
    "    \"\"\"Get the player's name.\"\"\"\n",
    "    return ctx.deps.name\n",
    "\n",
    "agent = Agent(\n",
    "    gemini_flash_lite,\n",
    "    deps_type=User, \n",
    "    instructions=INSTRUCTIONS,\n",
    "    tools=[roll_dice, get_player_name]\n",
    ")\n",
    "\n",
    "result = await agent.run(\"My guess is 4\", deps=User(\"John\", \"Engineer\"))\n",
    "print(result.output)"
   ]
  },
  {
   "cell_type": "markdown",
   "id": "911a264b-a92e-41b2-958c-50f8debb1b39",
   "metadata": {},
   "source": [
    "### Structured Output"
   ]
  },
  {
   "cell_type": "code",
   "execution_count": null,
   "id": "bc776740-2ab5-48f6-a2cf-3a75a836dca0",
   "metadata": {},
   "outputs": [],
   "source": [
    "INSTRUCTIONS = \"\"\"\\\n",
    "Extract me the dimensions of a box.  If you can't extract all data, ask the user to try again.\"\"\"\n",
    "\n",
    "class Box(BaseModel):\n",
    "    width: int\n",
    "    height: int\n",
    "    depth: int\n",
    "    units: str\n",
    "\n",
    "agent = Agent(\n",
    "    gemini_flash_lite,\n",
    "    output_type=[Box, str], \n",
    "    instructions=INSTRUCTIONS\n",
    ")\n",
    "\n",
    "result = await agent.run('The box is 10wx20hx30d cm')\n",
    "print(result.output)"
   ]
  },
  {
   "cell_type": "code",
   "execution_count": null,
   "id": "2e0ea19c-776d-4216-95c1-9352d202f186",
   "metadata": {},
   "outputs": [],
   "source": [
    "async def format_response(box: Box) -> str:\n",
    "    \"\"\"\n",
    "    Takes the extracted box dimensions and formats the output for the user/\n",
    "\n",
    "    Args:\n",
    "        box: Box object with extracted dimensions\n",
    "    \"\"\"\n",
    "    return f\"The box is this big: {str(box)}\"\n",
    "\n",
    "agent = Agent(\n",
    "    gemini_flash_lite,\n",
    "    output_type=[format_response, str], \n",
    "    instructions=INSTRUCTIONS\n",
    ")\n",
    "\n",
    "result = await agent.run('The box is 10wx20hx30d cm')\n",
    "print(result.output)"
   ]
  },
  {
   "cell_type": "code",
   "execution_count": null,
   "id": "7cca4f8b-c3f2-4096-b2fd-4ab91247f57b",
   "metadata": {},
   "outputs": [],
   "source": []
  }
 ],
 "metadata": {
  "kernelspec": {
   "display_name": "Python 3.11 - AI",
   "language": "python",
   "name": "python_ai_env"
  },
  "language_info": {
   "codemirror_mode": {
    "name": "ipython",
    "version": 3
   },
   "file_extension": ".py",
   "mimetype": "text/x-python",
   "name": "python",
   "nbconvert_exporter": "python",
   "pygments_lexer": "ipython3",
   "version": "3.11.13"
  }
 },
 "nbformat": 4,
 "nbformat_minor": 5
}
