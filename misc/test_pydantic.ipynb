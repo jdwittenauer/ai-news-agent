{
 "cells": [
  {
   "cell_type": "code",
   "execution_count": null,
   "id": "756ed2eb-45b9-4df2-b763-0889731ffc04",
   "metadata": {},
   "outputs": [],
   "source": [
    "# Tracing (Phoenix)\n",
    "# phoenix serve\n",
    "\n",
    "import os\n",
    "from opentelemetry.exporter.otlp.proto.http.trace_exporter import OTLPSpanExporter\n",
    "from opentelemetry.sdk.trace import TracerProvider\n",
    "from openinference.instrumentation.pydantic_ai import OpenInferenceSpanProcessor\n",
    "from opentelemetry.sdk.trace.export import SimpleSpanProcessor\n",
    "from opentelemetry.trace import set_tracer_provider\n",
    "\n",
    "# os.environ[\"PHOENIX_COLLECTOR_ENDPOINT\"] = \"http://localhost:6006\"\n",
    "os.environ[\"OTEL_EXPORTER_OTLP_ENDPOINT\"] = \"http://localhost:6006\"\n",
    "\n",
    "# Set up the tracer provider\n",
    "tracer_provider = TracerProvider()\n",
    "\n",
    "# Add the OpenInference span processor\n",
    "endpoint = f\"{os.environ['OTEL_EXPORTER_OTLP_ENDPOINT']}/v1/traces\"\n",
    "\n",
    "exporter = OTLPSpanExporter(endpoint=endpoint)\n",
    "tracer_provider.add_span_processor(OpenInferenceSpanProcessor())\n",
    "tracer_provider.add_span_processor(SimpleSpanProcessor(exporter))\n",
    "\n",
    "set_tracer_provider(tracer_provider)\n",
    "\n",
    "from pydantic_ai import Agent\n",
    "Agent.instrument_all()"
   ]
  },
  {
   "cell_type": "code",
   "execution_count": null,
   "id": "715a8027-a063-4e40-ab5a-61e36970a17b",
   "metadata": {},
   "outputs": [],
   "source": [
    "# Tracing (MLFlow)\n",
    "# mlflow server --host 0.0.0.0 --port 5000\n",
    "\n",
    "import mlflow\n",
    "\n",
    "mlflow.pydantic_ai.autolog()\n",
    "mlflow.set_tracking_uri(\"http://localhost:5000\")\n",
    "mlflow.set_experiment(\"Pydantic AI\")\n",
    "mlflow.tracing.disable_notebook_display()"
   ]
  },
  {
   "cell_type": "code",
   "execution_count": null,
   "id": "29e61da7-7630-4c22-ad9b-fa935aadc2cc",
   "metadata": {},
   "outputs": [],
   "source": [
    "import os\n",
    "import random\n",
    "from dotenv import load_dotenv\n",
    "from pydantic_ai import Agent\n",
    "from pydantic_ai.models.google import GoogleModel, GoogleProvider\n",
    "from pydantic_ai.settings import ModelSettings\n",
    "from pydantic_ai.usage import UsageLimits\n",
    "\n",
    "FREE_MODELS = [\n",
    "    \"gemini-2.5-pro\",\n",
    "    \"gemini-2.5-flash\",\n",
    "    \"gemini-2.5-flash-lite-preview-06-17\",\n",
    "    \"gemini-2.0-flash\",\n",
    "    \"gemini-2.0-flash-lite\",\n",
    "    \"gemma-3-27b-it\",\n",
    "    \"gemma-3n-e4b-it\",\n",
    "    \"gemini-embedding-001\"\n",
    "]\n",
    "\n",
    "load_dotenv()\n",
    "gemini_pro = GoogleModel(\n",
    "    \"gemini-2.5-pro\",\n",
    "    provider=GoogleProvider(api_key=os.getenv(\"GEMINI_API_KEY\")),\n",
    "    settings=ModelSettings(temperature=0.8)\n",
    ")\n",
    "gemini_flash = GoogleModel(\n",
    "    \"gemini-2.5-flash\",\n",
    "    provider=GoogleProvider(api_key=os.getenv(\"GEMINI_API_KEY\")),\n",
    "    settings=ModelSettings(temperature=0.8)\n",
    ")\n",
    "gemini_flash_lite = GoogleModel(\n",
    "    \"gemini-2.5-flash-lite-preview-06-17\",\n",
    "    provider=GoogleProvider(api_key=os.getenv(\"GEMINI_API_KEY\")),\n",
    "    settings=ModelSettings(temperature=0.8)\n",
    ")\n",
    "gemma = GoogleModel(\n",
    "    \"gemma-3-27b-it\",\n",
    "    provider=GoogleProvider(api_key=os.getenv(\"GEMINI_API_KEY\")),\n",
    "    settings=ModelSettings(temperature=0.8)\n",
    ")"
   ]
  },
  {
   "cell_type": "markdown",
   "id": "ab5366ba-989a-4eee-a964-9d0df68e7dc4",
   "metadata": {},
   "source": [
    "## Basic Functionality"
   ]
  },
  {
   "cell_type": "code",
   "execution_count": null,
   "id": "11f782b1-c8ba-47eb-bdde-a2b9aba0cbae",
   "metadata": {},
   "outputs": [],
   "source": [
    "agent = Agent(gemini_flash_lite)\n",
    "result = await agent.run(\"What is the capital of Italy?\")\n",
    "print(result.output)"
   ]
  },
  {
   "cell_type": "code",
   "execution_count": null,
   "id": "4e4f6f7b-a2c0-499f-8e8d-bb0c7b4c6178",
   "metadata": {},
   "outputs": [],
   "source": [
    "INSTRUCTIONS = \"\"\"\\\n",
    "Answer the user's question using one of the tools provided.\"\"\"\n",
    "\n",
    "async def add_numbers(x: int, y: int) -> str:\n",
    "    \"\"\"\n",
    "    Add two numbers together.\n",
    "\n",
    "    Args:\n",
    "        x: First number\n",
    "        y: Second number\n",
    "    \"\"\"\n",
    "    return str(x + y)\n",
    "\n",
    "async def get_weather(city: str, state: str) -> str:\n",
    "    \"\"\"\n",
    "    Get weather forecast for a location.\n",
    "\n",
    "    Args:\n",
    "        city: Name of the city\n",
    "        state: State abbreviation (e.g., 'CA' for California)\n",
    "    \"\"\"\n",
    "    return f\"The weather in {city}, {state} is 75 degrees and sunny.\"\n",
    "\n",
    "agent = Agent(\n",
    "    gemini_flash_lite,\n",
    "    instructions=INSTRUCTIONS,\n",
    "    tools=[add_numbers, get_weather]\n",
    ")\n",
    "result = await agent.run(\n",
    "    \"What's the weather like in Columbus, Ohio?\",\n",
    "    usage_limits=UsageLimits(request_limit=3)\n",
    ")\n",
    "print(result.output)"
   ]
  },
  {
   "cell_type": "code",
   "execution_count": null,
   "id": "bdf26688-c5a8-4288-9e50-5d468956d8d3",
   "metadata": {},
   "outputs": [],
   "source": [
    "result2 = await agent.run(\n",
    "    \"What about Dallas, Texas?\",\n",
    "    message_history=result.new_messages(),\n",
    "    usage_limits=UsageLimits(request_limit=3)\n",
    ")\n",
    "print(result.output)"
   ]
  },
  {
   "cell_type": "code",
   "execution_count": null,
   "id": "8c048020-134a-486a-940e-3e4bf4866703",
   "metadata": {},
   "outputs": [],
   "source": []
  }
 ],
 "metadata": {
  "kernelspec": {
   "display_name": "Python 3.11 - AI",
   "language": "python",
   "name": "python_ai_env"
  },
  "language_info": {
   "codemirror_mode": {
    "name": "ipython",
    "version": 3
   },
   "file_extension": ".py",
   "mimetype": "text/x-python",
   "name": "python",
   "nbconvert_exporter": "python",
   "pygments_lexer": "ipython3",
   "version": "3.11.13"
  }
 },
 "nbformat": 4,
 "nbformat_minor": 5
}
