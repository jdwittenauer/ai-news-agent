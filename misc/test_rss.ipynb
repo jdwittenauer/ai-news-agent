{
 "cells": [
  {
   "cell_type": "code",
   "execution_count": null,
   "id": "e4cc857f-dda5-438c-9a6d-26c986fea2a4",
   "metadata": {},
   "outputs": [],
   "source": [
    "import feedparser\n",
    "from datetime import datetime\n",
    "\n",
    "def get_published_date(published_str):\n",
    "    date_obj = datetime.strptime(published_str[:16], \"%a, %d %b %Y\")\n",
    "    return date_obj.date()"
   ]
  },
  {
   "cell_type": "markdown",
   "id": "043a994d-d33a-464a-906f-3a34fbf80865",
   "metadata": {},
   "source": [
    "### AI News"
   ]
  },
  {
   "cell_type": "code",
   "execution_count": null,
   "id": "210bef61-191c-41be-8e06-79481086972e",
   "metadata": {},
   "outputs": [],
   "source": [
    "ainews_url = \"https://news.smol.ai/rss.xml\"\n",
    "feed = feedparser.parse(ainews_url)\n",
    "\n",
    "print(f\"Feed Title: {feed.feed.title}\")\n",
    "print(f\"Feed Link: {feed.feed.link}\")\n",
    "print(f\"Feed Description: {feed.feed.get('description', 'No description')}\")"
   ]
  },
  {
   "cell_type": "code",
   "execution_count": null,
   "id": "95c9bc68-28e0-45bf-8aea-870a868f83e2",
   "metadata": {},
   "outputs": [],
   "source": [
    "len(feed.entries)"
   ]
  },
  {
   "cell_type": "code",
   "execution_count": null,
   "id": "f7476430-a4b4-4633-9bdd-f2101afc131a",
   "metadata": {},
   "outputs": [],
   "source": [
    "print(feed.entries[0].keys())"
   ]
  },
  {
   "cell_type": "code",
   "execution_count": null,
   "id": "68a1335a-d860-499d-985c-a38776e647cc",
   "metadata": {},
   "outputs": [],
   "source": [
    "for entry in feed.entries[:1]:\n",
    "    print(\"\\n---\")\n",
    "    print(f\"Title: {entry.title}\")\n",
    "    print(f\"Link: {entry.link}\")\n",
    "    print(f\"Published: {entry.published}\")\n",
    "    print(f\"Summary: {entry.get('summary', 'No summary provided')}\")\n",
    "    # print(f\"Content: {entry.content}\")"
   ]
  },
  {
   "cell_type": "code",
   "execution_count": null,
   "id": "d45658a1-54d8-421b-8a07-1f6cbabbb346",
   "metadata": {},
   "outputs": [],
   "source": [
    "print(get_published_date(feed.entries[0].published))"
   ]
  },
  {
   "cell_type": "markdown",
   "id": "61673834-6393-4145-ba0a-31d8387c8201",
   "metadata": {},
   "source": [
    "### Arxiv"
   ]
  },
  {
   "cell_type": "code",
   "execution_count": null,
   "id": "7edb1b34-d8c3-4c90-a1bc-83934d967a62",
   "metadata": {},
   "outputs": [],
   "source": [
    "arxiv_url = \"https://rss.arxiv.org/rss/cs\"\n",
    "feed = feedparser.parse(arxiv_url)\n",
    "\n",
    "print(f\"Feed Title: {feed.feed.title}\")\n",
    "print(f\"Feed Link: {feed.feed.link}\")\n",
    "print(f\"Feed Description: {feed.feed.get('description', 'No description')}\")"
   ]
  },
  {
   "cell_type": "code",
   "execution_count": null,
   "id": "d16e8ef2-cca6-41b4-ac3c-f7f30ac3a77e",
   "metadata": {},
   "outputs": [],
   "source": [
    "len(feed.entries)"
   ]
  },
  {
   "cell_type": "code",
   "execution_count": null,
   "id": "ed3a67f0-a94a-45ef-ade7-ec879b512a85",
   "metadata": {},
   "outputs": [],
   "source": [
    "print(feed.entries[0].keys())"
   ]
  },
  {
   "cell_type": "code",
   "execution_count": null,
   "id": "4efea19a-a532-4977-b74f-2222c3ea28c7",
   "metadata": {},
   "outputs": [],
   "source": [
    "for entry in feed.entries[:1]:\n",
    "    print(\"\\n---\")\n",
    "    print(f\"Title: {entry.title}\")\n",
    "    print(f\"Link: {entry.link}\")\n",
    "    print(f\"Published: {entry.published}\")\n",
    "    print(f\"Summary: {entry.get('summary', 'No summary provided')}\")"
   ]
  },
  {
   "cell_type": "code",
   "execution_count": null,
   "id": "75d38836-a754-481a-8097-1eea109b4737",
   "metadata": {},
   "outputs": [],
   "source": [
    "print(get_published_date(feed.entries[0].published))"
   ]
  },
  {
   "cell_type": "code",
   "execution_count": null,
   "id": "bf9097bc-b20a-43a3-b8c8-38ac26edb980",
   "metadata": {},
   "outputs": [],
   "source": []
  }
 ],
 "metadata": {
  "kernelspec": {
   "display_name": "Python 3.11 - AI",
   "language": "python",
   "name": "python_ai_env"
  },
  "language_info": {
   "codemirror_mode": {
    "name": "ipython",
    "version": 3
   },
   "file_extension": ".py",
   "mimetype": "text/x-python",
   "name": "python",
   "nbconvert_exporter": "python",
   "pygments_lexer": "ipython3",
   "version": "3.11.13"
  }
 },
 "nbformat": 4,
 "nbformat_minor": 5
}
