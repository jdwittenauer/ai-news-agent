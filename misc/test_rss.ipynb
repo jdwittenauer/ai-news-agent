{
 "cells": [
  {
   "cell_type": "code",
   "execution_count": null,
   "id": "210bef61-191c-41be-8e06-79481086972e",
   "metadata": {},
   "outputs": [],
   "source": [
    "import datetime\n",
    "import feedparser\n",
    "\n",
    "rss_url = 'https://news.smol.ai/rss.xml'\n",
    "feed = feedparser.parse(rss_url)\n",
    "\n",
    "print(f\"Feed Title: {feed.feed.title}\")\n",
    "print(f\"Feed Link: {feed.feed.link}\")\n",
    "print(f\"Feed Description: {feed.feed.get('description', 'No description')}\")"
   ]
  },
  {
   "cell_type": "code",
   "execution_count": null,
   "id": "95c9bc68-28e0-45bf-8aea-870a868f83e2",
   "metadata": {},
   "outputs": [],
   "source": [
    "len(feed.entries)"
   ]
  },
  {
   "cell_type": "code",
   "execution_count": null,
   "id": "f7476430-a4b4-4633-9bdd-f2101afc131a",
   "metadata": {},
   "outputs": [],
   "source": [
    "print(feed.entries[0].keys())"
   ]
  },
  {
   "cell_type": "code",
   "execution_count": null,
   "id": "68a1335a-d860-499d-985c-a38776e647cc",
   "metadata": {},
   "outputs": [],
   "source": [
    "for entry in feed.entries[:1]:\n",
    "    print(\"\\n---\")\n",
    "    print(f\"Title: {entry.title}\")\n",
    "    print(f\"Link: {entry.link}\")\n",
    "    print(f\"Published: {entry.published}\")\n",
    "    print(f\"Summary: {entry.get('summary', 'No summary provided')}\")\n",
    "    # print(f\"Content: {entry.content}\")"
   ]
  },
  {
   "cell_type": "code",
   "execution_count": null,
   "id": "f141ed86-d94a-4585-9566-96cb5a63f5e8",
   "metadata": {},
   "outputs": [],
   "source": [
    "def get_published_datetime(published_struct):\n",
    "    return datetime.datetime(\n",
    "        published_struct.tm_year,\n",
    "        published_struct.tm_mon,\n",
    "        published_struct.tm_mday,\n",
    "        published_struct.tm_hour,\n",
    "        published_struct.tm_min,\n",
    "        published_struct.tm_sec\n",
    "    )\n",
    "\n",
    "get_published_datetime(feed.entries[0].published_parsed)"
   ]
  },
  {
   "cell_type": "code",
   "execution_count": null,
   "id": "d16e8ef2-cca6-41b4-ac3c-f7f30ac3a77e",
   "metadata": {},
   "outputs": [],
   "source": []
  }
 ],
 "metadata": {
  "kernelspec": {
   "display_name": "Python 3.11 - AI",
   "language": "python",
   "name": "python_ai_env"
  },
  "language_info": {
   "codemirror_mode": {
    "name": "ipython",
    "version": 3
   },
   "file_extension": ".py",
   "mimetype": "text/x-python",
   "name": "python",
   "nbconvert_exporter": "python",
   "pygments_lexer": "ipython3",
   "version": "3.11.13"
  }
 },
 "nbformat": 4,
 "nbformat_minor": 5
}
