{
 "cells": [
  {
   "cell_type": "code",
   "execution_count": null,
   "id": "6146367c-558a-4ed7-a9e1-663afa3e7017",
   "metadata": {},
   "outputs": [],
   "source": [
    "# https://supabase.com/docs/reference/python/introduction\n",
    "\n",
    "import os\n",
    "from dotenv import load_dotenv\n",
    "from supabase import create_client\n",
    "\n",
    "load_dotenv()\n",
    "url = os.getenv(\"SUPABASE_LOCAL_API_URL\")\n",
    "key = os.getenv(\"SUPABASE_LOCAL_SERVICE_KEY\")\n",
    "\n",
    "supabase = create_client(url, key)"
   ]
  },
  {
   "cell_type": "code",
   "execution_count": null,
   "id": "472a0df2-75c0-4da6-ba83-1a00bb2b9206",
   "metadata": {},
   "outputs": [],
   "source": [
    "response = (\n",
    "    supabase.table(\"ai_news_raw_daily\")\n",
    "    .insert([\n",
    "        {\n",
    "            \"id\": 1,\n",
    "            \"created_at\": str(datetime.now()),\n",
    "            \"title\": \"Test 1\",\n",
    "            \"link\": \"https://test1.com\",\n",
    "            \"published_date\": str(datetime.now().date()),\n",
    "            \"summary\": \"This is a test.\",\n",
    "            \"content\": \"This is a test.\"\n",
    "        },\n",
    "        {\n",
    "            \"id\": 2,\n",
    "            \"created_at\": str(datetime.now()),\n",
    "            \"title\": \"Test 2\",\n",
    "            \"link\": \"https://test2.com\",\n",
    "            \"published_date\": str(datetime.now().date()),\n",
    "            \"summary\": \"This is a test.\",\n",
    "            \"content\": \"This is a test.\"\n",
    "        },\n",
    "        {\n",
    "            \"id\": 3,\n",
    "            \"created_at\": str(datetime.now()),\n",
    "            \"title\": \"Test 3\",\n",
    "            \"link\": \"https://test3.com\",\n",
    "            \"published_date\": str(datetime.now().date()),\n",
    "            \"summary\": \"This is a test.\",\n",
    "            \"content\": \"This is a test.\"\n",
    "        },\n",
    "    ])\n",
    "    .execute()\n",
    ")"
   ]
  },
  {
   "cell_type": "code",
   "execution_count": null,
   "id": "846e5d30-5955-488f-9c3e-a44b30928811",
   "metadata": {},
   "outputs": [],
   "source": [
    "response = (\n",
    "    supabase.table(\"ai_news_raw_daily\")\n",
    "    .update({\"summary\": \"Updated data.\", \"content\": \"Updated data.\"})\n",
    "    .eq(\"id\", 1)\n",
    "    .execute()\n",
    ")"
   ]
  },
  {
   "cell_type": "code",
   "execution_count": null,
   "id": "2626f6d4-7a06-413f-ab5a-78db7fe37926",
   "metadata": {},
   "outputs": [],
   "source": [
    "response = (\n",
    "    supabase.table(\"ai_news_raw_daily\")\n",
    "    .select(\"*\")\n",
    "    .execute()\n",
    ")\n",
    "print(response)"
   ]
  },
  {
   "cell_type": "code",
   "execution_count": null,
   "id": "592302b8-f42f-4be1-8883-5bb2797481ad",
   "metadata": {},
   "outputs": [],
   "source": [
    "response = (\n",
    "    supabase.table(\"ai_news_raw_daily\")\n",
    "    .delete()\n",
    "    .in_(\"id\", [1, 2, 3])\n",
    "    .execute()\n",
    ")"
   ]
  },
  {
   "cell_type": "code",
   "execution_count": null,
   "id": "560494fa-e8f8-4c7c-874a-ec6c1372281e",
   "metadata": {},
   "outputs": [],
   "source": []
  }
 ],
 "metadata": {
  "kernelspec": {
   "display_name": "Python 3.11 - AI",
   "language": "python",
   "name": "python_ai_env"
  },
  "language_info": {
   "codemirror_mode": {
    "name": "ipython",
    "version": 3
   },
   "file_extension": ".py",
   "mimetype": "text/x-python",
   "name": "python",
   "nbconvert_exporter": "python",
   "pygments_lexer": "ipython3",
   "version": "3.11.13"
  }
 },
 "nbformat": 4,
 "nbformat_minor": 5
}
