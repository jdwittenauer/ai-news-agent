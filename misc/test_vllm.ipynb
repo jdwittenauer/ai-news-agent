{
 "cells": [
  {
   "cell_type": "markdown",
   "id": "9fd20386-116d-476b-8191-6799876a0cc5",
   "metadata": {},
   "source": [
    "### Embedding Model"
   ]
  },
  {
   "cell_type": "code",
   "execution_count": null,
   "id": "7927315c-d08a-4992-8262-ee6b4073c8fb",
   "metadata": {},
   "outputs": [],
   "source": [
    "from vllm import LLM\n",
    "\n",
    "documents = [\n",
    "    \"Paris is the capital of France.\",\n",
    "    \"Berlin is the capital of Germany.\",\n",
    "    \"Madrid is a beautiful Spanish city.\"\n",
    "]\n",
    "\n",
    "model = LLM(model=\"Qwen/Qwen3-Embedding-0.6B\", task=\"embed\")\n",
    "\n",
    "outputs = model.embed(documents)\n",
    "for doc, output in zip(documents, outputs):\n",
    "    embeds = output.outputs.embedding\n",
    "    embeds_trimmed = (\n",
    "        (str(embeds[:16])[:-1] + \", ...]\") if len(embeds) > 16 else embeds\n",
    "    )\n",
    "    print(f\"Doc: {doc!r} \\nEmbeddings: {embeds_trimmed} (size={len(embeds)})\")"
   ]
  },
  {
   "cell_type": "markdown",
   "id": "9eb7b223-3c43-4995-8961-58698c025591",
   "metadata": {},
   "source": [
    "### Reranker"
   ]
  },
  {
   "cell_type": "code",
   "execution_count": null,
   "id": "ddc28001-5380-4dcd-9d7d-bf7a94025d63",
   "metadata": {},
   "outputs": [],
   "source": [
    "from vllm import LLM\n",
    "\n",
    "query = \"What is the capital of France?\"\n",
    "documents = [\n",
    "    \"Paris is the capital of France.\",\n",
    "    \"Berlin is the capital of Germany.\",\n",
    "    \"Madrid is a beautiful Spanish city.\"\n",
    "]\n",
    "pairs = list(zip([query] * len(documents), documents))\n",
    "\n",
    "model = LLM(\n",
    "    model=\"BAAI/bge-reranker-v2-m3\",\n",
    "    task=\"score\",\n",
    "    trust_remote_code=True\n",
    ")\n",
    "\n",
    "outputs = model.score(query, documents)\n",
    "results = [(doc, out.outputs.score) for doc, out in zip(documents, outputs)]\n",
    "results.sort(key=lambda x: x[1], reverse=True)\n",
    "\n",
    "print(\"Ranked results:\")\n",
    "for doc, score in results:\n",
    "    print(f\"{score:.4f} — {doc}\")"
   ]
  },
  {
   "cell_type": "markdown",
   "id": "4a2012e5-d191-4db3-b426-3ca615e19a72",
   "metadata": {},
   "source": [
    "### Language Model"
   ]
  },
  {
   "cell_type": "code",
   "execution_count": null,
   "id": "f001a3b5-7a2b-408b-883a-8066b71fe658",
   "metadata": {},
   "outputs": [],
   "source": [
    "from vllm import LLM, SamplingParams\n",
    "\n",
    "prompts = [\n",
    "    \"Hello, my name is\",\n",
    "    \"The president of the United States is\",\n",
    "    \"The capital of France is\",\n",
    "    \"The future of AI is\",\n",
    "]\n",
    "sampling_params = SamplingParams(temperature=0.8, top_p=0.95)\n",
    "llm = LLM(model=\"google/gemma-3-4b-it\", max_model_len=24000)\n",
    "\n",
    "outputs = llm.generate(prompts, sampling_params)\n",
    "for output in outputs:\n",
    "    prompt = output.prompt\n",
    "    generated_text = output.outputs[0].text\n",
    "    print(f\"Prompt: {prompt!r}, Generated text: {generated_text!r}\")"
   ]
  },
  {
   "cell_type": "code",
   "execution_count": null,
   "id": "ec58e071-cacf-49e6-9e9f-658d63b3e90f",
   "metadata": {},
   "outputs": [],
   "source": []
  }
 ],
 "metadata": {
  "kernelspec": {
   "display_name": "Python 3.11 - AI",
   "language": "python",
   "name": "python_ai_env"
  },
  "language_info": {
   "codemirror_mode": {
    "name": "ipython",
    "version": 3
   },
   "file_extension": ".py",
   "mimetype": "text/x-python",
   "name": "python",
   "nbconvert_exporter": "python",
   "pygments_lexer": "ipython3",
   "version": "3.11.13"
  }
 },
 "nbformat": 4,
 "nbformat_minor": 5
}
